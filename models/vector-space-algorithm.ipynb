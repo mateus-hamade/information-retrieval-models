{
  "nbformat": 4,
  "nbformat_minor": 0,
  "metadata": {
    "colab": {
      "provenance": [],
      "gpuType": "T4"
    },
    "kernelspec": {
      "name": "python3",
      "display_name": "Python 3"
    },
    "language_info": {
      "name": "python"
    },
    "accelerator": "GPU"
  },
  "cells": [
    {
      "cell_type": "markdown",
      "source": [
        "### Importando Bibliotecas"
      ],
      "metadata": {
        "id": "UUbhLt-W-cXH"
      }
    },
    {
      "cell_type": "code",
      "source": [
        "! python -m spacy download pt_core_news_sm"
      ],
      "metadata": {
        "id": "IwQUINDiKEcw",
        "collapsed": true
      },
      "execution_count": null,
      "outputs": []
    },
    {
      "cell_type": "code",
      "execution_count": null,
      "metadata": {
        "id": "oy84EVd9-d6z"
      },
      "outputs": [],
      "source": [
        "import glob\n",
        "import re\n",
        "import os\n",
        "import unicodedata\n",
        "import math\n",
        "\n",
        "import nltk\n",
        "from nltk.corpus        import stopwords\n",
        "from nltk.tokenize      import word_tokenize\n",
        "from nltk.stem.snowball import SnowballStemmer\n",
        "\n",
        "from tabulate import tabulate\n",
        "\n",
        "import spacy\n",
        "import pt_core_news_sm\n",
        "\n",
        "nlp = spacy.load(\"pt_core_news_sm\")\n",
        "nltk.download('stopwords')\n",
        "nltk.download('punkt')"
      ]
    },
    {
      "cell_type": "markdown",
      "source": [
        "### Conectando ao Google Drive\n"
      ],
      "metadata": {
        "id": "n_NBpu7IC-dz"
      }
    },
    {
      "cell_type": "code",
      "source": [
        "from google.colab import drive\n",
        "drive.mount('/content/drive')"
      ],
      "metadata": {
        "id": "AbP8gVM7CeQd"
      },
      "execution_count": null,
      "outputs": []
    },
    {
      "cell_type": "markdown",
      "source": [
        "### Importando os documentos\n",
        "\n"
      ],
      "metadata": {
        "id": "7lRYQqieC9Vz"
      }
    },
    {
      "cell_type": "code",
      "source": [
        "def read_file(directory: str) -> str:\n",
        "    file = open(directory, 'r')\n",
        "    text = file.read()\n",
        "\n",
        "    return text"
      ],
      "metadata": {
        "id": "YgX_vX6HC8_M"
      },
      "execution_count": null,
      "outputs": []
    },
    {
      "cell_type": "code",
      "source": [
        "print(read_file('/content/drive/MyDrive/Information retrieval/data/estrutura de dados [AV - 2](3 - GABARITO).txt'))"
      ],
      "metadata": {
        "id": "eWfbJQXYzGVX",
        "colab": {
          "base_uri": "https://localhost:8080/"
        },
        "outputId": "f58fd7a7-415c-41ba-93f1-2476b5657c83"
      },
      "execution_count": null,
      "outputs": [
        {
          "output_type": "stream",
          "name": "stdout",
          "text": [
            "Algoritmos e Estrutura de Dados - Arvores\n",
            "\n",
            "Considere as seguintes assertivas sobre árvores binárias de busca e suas variantes:\n",
            "\n",
            "I. Em árvores AVL, a altura máxima é garantida em O(log n), onde n é o número de elementos na árvore.\n",
            "II. Árvores 2-3 são uma variação de árvores binárias de busca que permitem mais de dois filhos por nó.\n",
            "III. Em árvores B, a profundidade de busca é sempre O(log n), independentemente da distribuição dos dados.\n",
            "IV. Árvores de busca binária balanceadas como as AVL e as árvores rubro-negras garantem que a altura da árvore seja O(log n) no pior caso.\n",
            "\n",
            "Alternativas:\n",
            "\n",
            "A. Todas as assertivas estão corretas.\n",
            "B. Todas as assertivas estão incorretas.\n",
            "C. Apenas a assertiva I está correta.\n",
            "D. Apenas as assertivas II e III estão corretas.\n",
            "E. Apenas as assertivas III e IV estão corretas.\n"
          ]
        }
      ]
    },
    {
      "cell_type": "markdown",
      "source": [
        "### Tratamento dos dados"
      ],
      "metadata": {
        "id": "j3EHvuw_F4oC"
      }
    },
    {
      "cell_type": "markdown",
      "source": [
        "##### Removendo acentuação"
      ],
      "metadata": {
        "id": "FeRjPxsI3p0d"
      }
    },
    {
      "cell_type": "code",
      "source": [
        "def remove_accents(text: str) -> str:\n",
        "    nfkd = unicodedata.normalize('NFKD', text)\n",
        "\n",
        "    filtered_text = ''.join([c for c in nfkd if not unicodedata.combining(c)])\n",
        "\n",
        "    return filtered_text"
      ],
      "metadata": {
        "id": "h2WZuRdh3shW"
      },
      "execution_count": null,
      "outputs": []
    },
    {
      "cell_type": "code",
      "source": [
        "print('Remoção de acentos: Análise ->', remove_accents('Análise'))"
      ],
      "metadata": {
        "id": "QD-wP0bnA-lB",
        "colab": {
          "base_uri": "https://localhost:8080/"
        },
        "outputId": "d071286e-3b54-4abf-f6b6-708bd25f3aff"
      },
      "execution_count": null,
      "outputs": [
        {
          "output_type": "stream",
          "name": "stdout",
          "text": [
            "Remoção de acentos: Análise -> Analise\n"
          ]
        }
      ]
    },
    {
      "cell_type": "markdown",
      "source": [
        "##### Removendo caracteres especiais"
      ],
      "metadata": {
        "id": "xNnm68yfGeHS"
      }
    },
    {
      "cell_type": "code",
      "source": [
        "def remove_special_characters(text: str) -> str:\n",
        "    regex = re.compile(r'[^a-zA-Z0-9\\s]')\n",
        "\n",
        "    filtered_text = re.sub(regex, '', text)\n",
        "\n",
        "    return filtered_text"
      ],
      "metadata": {
        "id": "RtyG7of1F4Si"
      },
      "execution_count": null,
      "outputs": []
    },
    {
      "cell_type": "code",
      "source": [
        "print('Remoção de caracteres especiais: Guarda-chuva ->', remove_special_characters('Guarda-chuva'))"
      ],
      "metadata": {
        "id": "LLl12KhmBUZc",
        "colab": {
          "base_uri": "https://localhost:8080/"
        },
        "outputId": "7b62cda1-f53a-4de9-8f6d-c74679ad82ef"
      },
      "execution_count": null,
      "outputs": [
        {
          "output_type": "stream",
          "name": "stdout",
          "text": [
            "Remoção de caracteres especiais: Guarda-chuva -> Guardachuva\n"
          ]
        }
      ]
    },
    {
      "cell_type": "markdown",
      "source": [
        "##### Convertendo para minúsculas"
      ],
      "metadata": {
        "id": "mTVowZNNncf0"
      }
    },
    {
      "cell_type": "code",
      "source": [
        "def convert_to_lowercase(text: str) -> str:\n",
        "    return text.casefold()"
      ],
      "metadata": {
        "id": "fiaMDndnndY0"
      },
      "execution_count": null,
      "outputs": []
    },
    {
      "cell_type": "code",
      "source": [
        "print('Conversão para minúsculas: Estrutura de Dados ->', convert_to_lowercase('Estrutura de Dados'))"
      ],
      "metadata": {
        "colab": {
          "base_uri": "https://localhost:8080/"
        },
        "id": "WczwORyTnepk",
        "outputId": "11d7cc69-f77a-42a7-e45a-0cc8c53aac9d"
      },
      "execution_count": null,
      "outputs": [
        {
          "output_type": "stream",
          "name": "stdout",
          "text": [
            "Conversão para minúsculas: Estrutura de Dados -> estrutura de dados\n"
          ]
        }
      ]
    },
    {
      "cell_type": "markdown",
      "source": [
        "##### Removendo *Stopwords*"
      ],
      "metadata": {
        "id": "1vObr3lD83Hm"
      }
    },
    {
      "cell_type": "code",
      "source": [
        "def remove_stopwords(token: list[str]) -> list[str]:\n",
        "    stop_words = stopwords.words('portuguese')\n",
        "\n",
        "    filtered_token = [word for word in token if word not in stop_words]\n",
        "\n",
        "    return filtered_token"
      ],
      "metadata": {
        "id": "yDba4-LG82jd"
      },
      "execution_count": null,
      "outputs": []
    },
    {
      "cell_type": "code",
      "source": [
        "print('Remoção de Stopwords: Todas aquelas pessoas -> ', remove_stopwords(['todas', 'aquelas', 'pessoas']))"
      ],
      "metadata": {
        "id": "m4zXWo1DByFV",
        "colab": {
          "base_uri": "https://localhost:8080/"
        },
        "outputId": "d991165d-2498-4f37-8f35-d4bf9b1b0ded"
      },
      "execution_count": null,
      "outputs": [
        {
          "output_type": "stream",
          "name": "stdout",
          "text": [
            "Remoção de Stopwords: Todas aquelas pessoas ->  ['todas', 'pessoas']\n"
          ]
        }
      ]
    },
    {
      "cell_type": "markdown",
      "source": [
        "##### Aplicando a derivação de palavras"
      ],
      "metadata": {
        "id": "HZVamsdoXl_Y"
      }
    },
    {
      "cell_type": "code",
      "source": [
        "def lemmatization_words(token: list[str]) -> list[str]:\n",
        "    terms = nlp(\" \".join(token))\n",
        "\n",
        "    lemmatized_tokens = [term.lemma_ for term in terms]\n",
        "\n",
        "    return lemmatized_tokens"
      ],
      "metadata": {
        "id": "ph2P4xy_Y0u7"
      },
      "execution_count": null,
      "outputs": []
    },
    {
      "cell_type": "code",
      "source": [
        "print('Aplicação da lematização:', lemmatization_words(['amigo', 'amigos', 'amigas']))"
      ],
      "metadata": {
        "id": "MkAabwf6J5Fi",
        "colab": {
          "base_uri": "https://localhost:8080/"
        },
        "outputId": "5ef240db-d46e-4833-f05d-ae3f1f374df7"
      },
      "execution_count": null,
      "outputs": [
        {
          "output_type": "stream",
          "name": "stdout",
          "text": [
            "Aplicação da lematização: ['amigo', 'amigo', 'amiga']\n"
          ]
        }
      ]
    },
    {
      "cell_type": "markdown",
      "source": [
        "#### Aplicando as funções nos documentos"
      ],
      "metadata": {
        "id": "5yfhLPepGnfT"
      }
    },
    {
      "cell_type": "code",
      "source": [
        "def pre_processing(folder: str, document_token: dict, vocabulary: set) -> tuple:\n",
        "    files = sorted(glob.glob(folder))\n",
        "\n",
        "    for file in files:\n",
        "        text = read_file(file)\n",
        "\n",
        "        text = remove_accents(text)\n",
        "        text = remove_special_characters(text)\n",
        "        text = convert_to_lowercase(text)\n",
        "\n",
        "        token = word_tokenize(text)\n",
        "        token = remove_stopwords(token)\n",
        "        token = lemmatization_words(token)\n",
        "\n",
        "        vocabulary.update(token)\n",
        "\n",
        "        document_token[os.path.basename(file)] = token\n",
        "\n",
        "    return document_token, vocabulary"
      ],
      "metadata": {
        "id": "6o2jwmHNVPhS"
      },
      "execution_count": null,
      "outputs": []
    },
    {
      "cell_type": "code",
      "source": [
        "folder = '/content/drive/MyDrive/Information retrieval/data/*'\n",
        "\n",
        "document_token, vocabulary = pre_processing(folder, {}, set())"
      ],
      "metadata": {
        "id": "UbUNYVp40qmY"
      },
      "execution_count": null,
      "outputs": []
    },
    {
      "cell_type": "code",
      "source": [
        "print('banco de dados [AR - 2](2).txt:', document_token['estrutura de dados [AV - 2](3 - GABARITO).txt'])"
      ],
      "metadata": {
        "id": "OVZ5ycrtiTa6",
        "colab": {
          "base_uri": "https://localhost:8080/"
        },
        "outputId": "d669eab1-4120-45ae-91a1-ddc07c5e17e8"
      },
      "execution_count": null,
      "outputs": [
        {
          "output_type": "stream",
          "name": "stdout",
          "text": [
            "banco de dados [AR - 2](2).txt: ['algoritmos', 'estrutura', 'dar', 'arvor', 'considerar', 'seguinte', 'assertivo', 'sobre', 'arvor', 'binaria', 'buscar', 'variante', 'i', 'arvor', 'Avl', 'altura', 'maxima', 'garantir', 'olog', 'n', 'onde', 'n', 'numero', 'elemento', 'arvorir', 'ii', 'arvor', '23', 'sao', 'variacao', 'arvor', 'binaria', 'buscar', 'permitir', 'dois', 'filho', 'iii', 'arvor', 'b', 'profundidade', 'busco', 'sempre', 'olog', 'n', 'independentemente', 'distribuicao', 'dar', 'iv', 'arvor', 'busca', 'binar', 'balancear', 'avl', 'arvor', 'rubronegra', 'garantir', 'altura', 'arvorir', 'olog', 'n', 'mau', 'caso', 'alternativo', 'todo', 'assertiva', 'estao', 'correta', 'b', 'todo', 'assertiva', 'estao', 'incorreta', 'c', 'apenas', 'assertivo', 'i', 'correto', 'd', 'apenas', 'assertiva', 'ii', 'iii', 'estao', 'correta', 'apenas', 'assertivo', 'iii', 'iv', 'estao', 'correta']\n"
          ]
        }
      ]
    },
    {
      "cell_type": "code",
      "source": [
        "print('Vocabulário:', sorted(vocabulary))"
      ],
      "metadata": {
        "id": "oiGpHFhSdqG0",
        "colab": {
          "base_uri": "https://localhost:8080/"
        },
        "outputId": "85a322e9-49bc-4b37-94de-4cd1c82959ff",
        "collapsed": true
      },
      "execution_count": null,
      "outputs": [
        {
          "output_type": "stream",
          "name": "stdout",
          "text": [
            "Vocabulário: ['0', '0010010010', '002', '010', '0110110110', '012', '012157913', '020', '0pessoas10', '1', '10', '100', '10000', '1001001001', '101', '11', '1101101101', '12', '12c', '13', '130121579', '13452', '139510716', '14352', '15', '15423', '15432', '17', '19', '1fn', '1n', '2', '20', '20000', '20999', '23', '234', '24', '25', '2a', '2fn', '3', '30', '32', '35', '396', '398', '3fn', '4', '40', '5', '6', '7', '8', '81', '839', '9', '951071613', '975211013', '98', '99', 'A2', 'Abstract', 'Agregacao', 'Assinale', 'Autonomoustransaction', 'Avl', 'Bubble', 'Campos', 'Ccodproduto', 'Chaves', 'Classe', 'Classes', 'Cnpj', 'Codproduto', 'Colocao', 'Compilacao', 'Definicao', 'Escola', 'Escritos', 'Estado', 'Estados', 'Estrela', 'Fault', 'Fifo', 'Forint', 'From', 'Geral', 'Grafo', 'Grafos', 'Gravacao', 'Gsignalconnect', 'Gtkcontainer', 'Gtkcontaineradd', 'Gtkinit', 'Gtklabelnew', 'Gtkmainquit', 'Gtkwindgetshowall', 'Heuristicas', 'Insercao', 'Keya2', 'L5', 'Lista', 'Long', 'Loop', 'Main', 'Maxima', 'Media', 'Medida', 'Merge', 'Metodo', 'Not', 'Pcodproduto', 'R2y', 'Raiz', 'S1', 'Segmentation', 'Selecao', 'Selection', 'Sort', 'Termino', 'Transacoes', 'Valor', 'Void', 'W1x', 'W1y', 'W2x', 'W2y', 'Widgets', 'Window', 'a0', 'a1', 'a2', 'abaixo', 'abordagem', 'abstracao', 'abstracaor', 'abstrair', 'abstrata', 'abstratar', 'abstrato', 'acao', 'acarreta', 'acelerandopassear', 'acelerar', 'acessar', 'acessibilidade', 'acesso', 'aciclico', 'acima', 'acomodar', 'acoplamento', 'acordo', 'acrescentar', 'acronimo', 'adelsonvelskii', 'adequadamente', 'adequado', 'adiado', 'adicional', 'adjacente', 'administrar', 'admitar', 'adotar', 'advanced', 'aferir', 'afirmacoe', 'afirmacoes', 'afirmar', 'afirmativa', 'afirmativar', 'afirmativo', 'agregacao', 'agricultura', 'agrupar', 'ainda', 'ajudar', 'alcancar', 'alcancavel', 'aleatoriamente', 'aler', 'algebrar', 'algo', 'algoritmo', 'algoritmos', 'algum', 'alimentar', 'alterar', 'alternativa', 'alternativo', 'alto', 'altura', 'ambiguidade', 'ambos', 'analisar', 'analise', 'analiser', 'and', 'antigo', 'aparecer', 'apenas', 'aplicacao', 'aplicacoes', 'apo', 'apontar', 'apos', 'apresentar', 'apropriar', 'aproximadamente', 'arco', 'areo', 'aresta', 'arestas', 'aresto', 'arg', 'argc', 'argv', 'argv1', 'aritmetico', 'armazenagem', 'armazenamento', 'armazenar', 'arquivo', 'array', 'arvor', 'arvorar', 'arvore', 'arvorir', 'assertiva', 'assertivo', 'assim', 'assinale', 'assinalea', 'assinaler', 'assinatura', 'assincronamente', 'assincronos', 'associacao', 'associar', 'association', 'assumir', 'ate', 'atingir', 'ator', 'atravessar', 'atribuicao', 'atributo', 'atual', 'atualizacao', 'atualizar', 'aumentar', 'automovelveiculo', 'auxiliar', 'avaliacao', 'avancar', 'avl', 'b', 'b1', 'b10', 'b2', 'b3', 'b9', 'baixo', 'balanceado', 'balanceamento', 'balancear', 'banco', 'base', 'basear', 'basico', 'bdnab', 'beneficio', 'bestfirst', 'biblioteca', 'biblioteco', 'binar', 'binaria', 'binario', 'binding', 'bipartido', 'bit', 'bitmapr', 'bloco', 'bolho', 'bom', 'bpmn', 'brasileiro', 'breadthfirst', 'bruteforce', 'bst', 'btree', 'bucket', 'buffer', 'buffer10', 'busca', 'buscar', 'busco', 'by', 'c', 'cabecalho', 'cabo', 'cada', 'caixeiro', 'caixeiroviajante', 'caminho', 'campo', 'capacidade', 'caracter', 'caracteristica', 'caracteristicar', 'caracteristicas', 'caracteristico', 'caracterizado', 'cargo', 'cartesiano', 'casa', 'casesensitive', 'caso', 'causa', 'causar', 'ccnpj', 'celular', 'centralizar', 'certo', 'chamar', 'chame', 'char', 'character', 'chave', 'chefe', 'ciclo', 'ciclomaticar', 'ciclomatico', 'cidade', 'cima', 'cinco', 'circuito', 'circulo', 'class', 'classe', 'classes', 'classico', 'classificar', 'clausula', 'cluster', 'cnpj', 'cobertura', 'codescola', 'codescolaprof', 'codescolar', 'codificar', 'codigo', 'codmunicipiar', 'codmunicipio', 'codmunicipioresidenciar', 'codproduto', 'coesao', 'coincidir', 'coletar', 'coluna', 'colunar', 'comando', 'combinaas', 'commit', 'compactacao', 'comparacao', 'comparar', 'compartilhamento', 'compartilhar', 'competer', 'compilacao', 'compilado', 'compilador', 'completar', 'completo', 'complexidade', 'complexo', 'compoem', 'componente', 'compor', 'comportamento', 'comportar', 'composicao', 'compost', 'comprada', 'compradas', 'comprar', 'compressao', 'compression', 'comprimento', 'computador', 'computeab', 'computeint', 'comum', 'comunicacao', 'comunicar', 'concatenar', 'conceito', 'conceitual', 'concernir', 'concluir', 'concluiser', 'concorrencer', 'concorrencia', 'concreto', 'condicional', 'condicoes', 'conectar', 'conexa', 'conexidade', 'conexo', 'configuracao', 'conflitante', 'conforme', 'conhecer', 'conhecimento', 'conjunto', 'conquista', 'consecutivo', 'consideracao', 'considerandose', 'considerar', 'considere', 'consigo', 'consistencir', 'consistir', 'consolewrite', 'consolewriteacelerar', 'consolewritemover', 'constar', 'construcao', 'construir', 'construtor', 'consulta', 'consulto', 'consumo', 'contar', 'conteiner', 'contem', 'contenha', 'contenhir', 'conter', 'contexto', 'continuar', 'contir', 'contrario', 'contratar', 'controlar', 'controle', 'conversao', 'convertelo', 'coordenador', 'cor', 'corpo', 'correlacione', 'corrente', 'correspondente', 'corresponder', 'correta', 'corretamente', 'corretar', 'correto', 'corriger', 'count0', 'count10count', 'countdistinct', 'countnome', 'cpf', 'create', 'crescente', 'criacao', 'criar', 'criptografar', 'criterio', 'crucial', 'cuidado', 'cujo', 'curto', 'custo', 'cypher', 'd', 'dado', 'daquela', 'dar', 'datanascimento', 'datar', 'de efinide', 'de esse', 'de este', 'de isso', 'decidir', 'decimal', 'declaracao', 'declarar', 'decomposto', 'decorator', 'decrescente', 'default', 'definicao', 'definicoes', 'definir', 'delecao', 'demais', 'demandar', 'demor', 'denominar', 'denominase', 'dentre', 'dentro', 'departamento', 'dependencia', 'dependenciar', 'dependente', 'depender', 'depthfirst', 'derivar', 'descoberta', 'descobertar', 'descobrir', 'desconexo', 'descrever', 'descricao', 'descrita', 'descritar', 'descritivo', 'descrito', 'desempenho', 'desenvolvedor', 'desenvolver', 'desenvolvimento', 'design', 'deslocamento', 'deslocar', 'desperdicio', 'destroy', 'destruido', 'destruir', 'detalhe', 'determinacao', 'determinandose', 'determinar', 'dever', 'devera', 'devese', 'deveser', 'devido', 'df', 'dfsgv', 'dfsgwr', 'diagrama', 'diante', 'difer', 'diferente', 'diferentemente', 'diferentes', 'diferir', 'digitar', 'dijkstra', 'dimensoes', 'dinamica', 'dinamicamente', 'dinamico', 'direcionar', 'direito', 'diretamente', 'dirigir', 'disciplina', 'distancia', 'distanciar', 'distinct', 'distinto', 'distribuer', 'distribuicao', 'distribuir', 'diverso', 'diversos', 'dividido', 'dividir', 'divisao', 'divisaor', 'dizer', 'dizse', 'dn', 'documentacao', 'documento', 'dois', 'dominio', 'double', 'durante', 'ear', 'eclipse', 'educacao', 'efeito', 'eficiencia', 'eficiente', 'elementar', 'elemento', 'elh', 'eliminar', 'else', 'em ela', 'em esse', 'email', 'empregar', 'empresa', 'encadeado', 'encadeamento', 'encapsulamento', 'encontrar', 'enorme', 'entao', 'entidade', 'entidaderelacionamento', 'entrada', 'entretanto', 'enviar', 'envolver', 'equilibrio', 'equipe', 'equivocar', 'er', 'errar', 'erro', 'escola', 'escolha', 'escolhe', 'escolhendose', 'escolher', 'escopo', 'escrever', 'escrito', 'escritorio', 'espaco', 'espalhamento', 'especial', 'especializacao', 'especializar', 'especie', 'especifica', 'especificacao', 'especificacoes', 'especificado', 'especificamente', 'especificar', 'esperar', 'esquema', 'esquerdar', 'esquerdo', 'essencial', 'estaao', 'estabelecer', 'estabilidade', 'estao', 'estar', 'estatico', 'estavel', 'estender', 'estouro', 'estrangeiro', 'estrategia', 'estrela', 'estrutura', 'estruturado', 'estruturar', 'estruturo', 'estudo', 'et', 'euleriano', 'evito', 'exatamente', 'exaustivo', 'excecao', 'excecoe', 'excecoes', 'exception', 'exceptions', 'exceto', 'exclusao', 'exclusivamente', 'exclusivo', 'execucao', 'executar', 'exemplo', 'exibir', 'exigir', 'existencia', 'existente', 'existir', 'explicitamente', 'explor', 'expor', 'expressoe', 'expressoes', 'extensivel', 'externa', 'externo', 'extra', 'f', 'facar', 'facilita', 'facilitar', 'falar', 'falha', 'falso', 'faltar', 'familiar', 'fatorar', 'favor', 'fazer', 'fcnpj', 'figurar', 'fila', 'filha', 'filho', 'filosofos', 'fim', 'final', 'fisico', 'fixo', 'fizer', 'flexibilidade', 'fluxo', 'foco', 'folha', 'foreign', 'fori', 'forma', 'formar', 'formato', 'formular', 'fornecedor', 'fornecer', 'forpnextnullpnext', 'forpnextnullppnext', 'forpnullpnext', 'forpnullppnext', 'fortemente', 'fraco', 'fragmentacao', 'fragmento', 'frequente', 'frequentemente', 'from', 'ftipo', 'funcao', 'funcaoptr', 'funcaoptrint', 'funcional', 'funcionalidade', 'funcionamento', 'funcionario', 'funcoe', 'funcoer', 'fundamental', 'fuscaautomovel', 'g', 'g1', 'garantida', 'garantir', 'gcallback', 'genericamentar', 'geometrico', 'geradas', 'geral', 'gerar', 'gerenciador', 'gerenciamento', 'gerenciar', 'gestao', 'global', 'graficamente', 'grafico', 'grafo', 'grande', 'grau', 'group', 'grupoalimentar', 'gsignalconnect', 'gt', 'gtk', 'gtkgtkh', 'gtkmain', 'gtkwindgetshowall', 'gtkwindow', 'gtkwindownew', 'gtkwindowsettitle', 'gtkwindowtoplevel', 'gtkwinget', 'guiada', 'h', 'ha', 'hamiltoniano', 'hash', 'haverar', 'having', 'heap', 'heapr', 'heranca', 'herdar', 'herde', 'hibrido', 'hierarquia', 'hierarquio', 'historico', 'horizontal', 'i', 'idade', 'idadepessoa', 'idcoord', 'ide', 'ideal', 'ideia', 'identico', 'identificacao', 'identificar', 'identifico', 'idloc', 'if', 'ifa', 'ifcount3', 'igual', 'ii', 'iii', 'imagem', 'implementacao', 'implementar', 'implements', 'importante', 'impressa', 'impressao', 'impresso', 'imprimir', 'imutavel', 'incidencia', 'incidente', 'include', 'incluir', 'incompletude', 'inconsistente', 'incorreta', 'incorreto', 'independencia', 'independente', 'independentemente', 'indevid', 'indexacao', 'indexador', 'indicar', 'indice', 'individualmente', 'info', 'informacoe', 'informacoes', 'informalmente', 'informar', 'ingles', 'inglês', 'inicial', 'inicio', 'insercao', 'inserir', 'insert', 'insertion', 'instalacao', 'instancia', 'instanciado', 'instanciar', 'instancio', 'instrucao', 'instrucoe', 'instrucoes', 'int', 'integracao', 'integridade', 'inteiro', 'interacoes', 'intercaladamente', 'intercalar', 'interesse', 'interface', 'internal', 'interno', 'interrompe', 'introducao', 'intuitivo', 'intuito', 'invariante', 'inverter', 'invocar', 'ira', 'item', 'iteracao', 'iterativamente', 'iv', 'janela', 'jantar', 'jar', 'joao', 'julgue', 'juncao', 'juntamente', 'junte', 'junto', 'k', 'k1k', 'key', 'keya1', 'keyword', 'km', 'l10', 'l4', 'l9', 'label', 'laco', 'lacuna', 'landis', 'largura', 'late', 'lecionar', 'leitura', 'lerparametro', 'levandose', 'levantar', 'levar', 'lifo', 'ligacao', 'ligar', 'limitar', 'limite', 'lingua', 'linguagem', 'linha', 'lista', 'listado', 'listar', 'literal', 'livre', 'local', 'localidade', 'localidadeidloc', 'log', 'logica', 'logico', 'longo', 'loop', 'm', 'mainint', 'maioria', 'maneira', 'manipulacao', 'manter', 'mapeamento', 'marcacao', 'marcar', 'marque', 'matriz', 'mau', 'max', 'maxima', 'maximo', 'mecanismo', 'media', 'medida', 'medio', 'medir', 'meio', 'melhora', 'melhorar', 'melhorprimeiro', 'membro', 'memoria', 'menos', 'mensagem', 'merge', 'mergir', 'merr', 'mescla', 'mesmo', 'metodo', 'metor', 'metragem', 'minim', 'minima', 'minimizar', 'minimo', 'modelagem', 'modelar', 'modelo', 'modificador', 'modificar', 'modo', 'modularizacao', 'moldar', 'momento', 'mostrar', 'movendoacelerandopassear', 'mover', 'muito', 'muitosparamuito', 'multipla', 'multiplr', 'multitarefa', 'multiusuario', 'mundo', 'municipio', 'municipioresidencia', 'n', 'nao', 'natural', 'necessario', 'necessidade', 'nenhum', 'netbeans', 'next', 'nivel', 'nocao', 'nome', 'nomear', 'nomecoord', 'nomeempresa', 'nomeescola', 'nomelocalidade', 'nomeproduto', 'nomeprof', 'nor', 'normal', 'normalmente', 'notacao', 'novo', 'nr', 'null', 'nullr', 'nulo', 'numerar', 'numerico', 'numero', 'nutricional', 'o1', 'o2n', 'o3n', 'objetivo', 'objeto', 'objetospoo', 'obrigatoriamente', 'obtencao', 'obter', 'ocasiao', 'ocorrer', 'ocultar', 'oferecer', 'oh', 'olog', 'om', 'on', 'on2', 'onde', 'onlogn', 'oop', 'opcao', 'operacao', 'operacional', 'operacoe', 'operacoes', 'operador', 'operar', 'oracle', 'ordem', 'ordena', 'ordenaas', 'ordenacao', 'ordenao', 'ordenar', 'ordeno', 'order', 'organizacao', 'organizar', 'orientacao', 'orientar', 'original', 'otimar', 'otimizacao', 'otimizar', 'otimo', 'outro', 'overflow', 'overrider', 'overridir', 'p', 'package', 'padrao', 'pai', 'palavra', 'palavrachave', 'palavraschave', 'papel', 'par', 'paradigma', 'parametrar', 'parametro', 'parcial', 'parcialmente', 'parte', 'particao', 'particoes', 'particular', 'particularidade', 'partir', 'passar', 'passear', 'pcodproduto', 'penultimo', 'pequeno', 'perceber', 'percorrer', 'percurso', 'perder', 'permitir', 'persistir', 'personalizar', 'pertencer', 'peso', 'pesquisa', 'pessoa', 'pessoo', 'pilar', 'pilha', 'pilho', 'pior', 'pivo', 'plsql', 'poder', 'podese', 'pois', 'polimorfismo', 'politico', 'ponderar', 'ponteiro', 'ponto', 'poo', 'posicao', 'posicionar', 'possibilito', 'possivel', 'possivelmente', 'possua', 'possuir', 'pouco', 'pr', 'pragma', 'praticar', 'precisaor', 'precisar', 'precondicao', 'preenchem', 'preencher', 'preocupar', 'preservacao', 'pretender', 'preto', 'primaria', 'primario', 'primary', 'primeira', 'primeiro', 'primitivo', 'principal', 'principio', 'printf', 'printf0', 'printf1', 'printf2f', 'printfad', 'printfd', 'printfndpinfo', 'printfvalor', 'printfvar2', 'printfvarvar', 'private', 'problema', 'procedimento', 'processamento', 'processo', 'produtar', 'produto', 'produzido', 'produzir', 'professor', 'profundidade', 'programa', 'programacao', 'projecao', 'projetado', 'projetar', 'projeter', 'projetir', 'projeto', 'propoe', 'propor', 'proporcional', 'proposito', 'propriedade', 'proprio', 'protecao', 'protected', 'proteger', 'proxir', 'prufer', 'public', 'publicar', 'publico', 'qual', 'qualidade', 'qualquer', 'quantidade', 'quantidadealuno', 'quanto', 'quatro', 'queirar', 'querer', 'questao', 'quick', 'r', 'r1x', 'r1y', 'r2x', 'r2y', 'ra', 'radix', 'raise', 'raiseapplicationerror', 'raised', 'raiz', 'rb', 're a', 'read', 'real', 'realizacao', 'realizar', 'reaproveitar', 'receber', 'recente', 'recipiente', 'reconecta', 'recuperacao', 'recursivamente', 'recursividade', 'recurso', 'rede', 'reduzir', 'reestruturacao', 'referemse', 'reference', 'referencia', 'referencial', 'referir', 'refletir', 'registre', 'registro', 'relacao', 'relacionado', 'relacional', 'relacionamento', 'relacionar', 'relacione', 'relacoe', 'relacoes', 'relativo', 'removendoos', 'remover', 'renda', 'repeticao', 'repetidamente', 'repetir', 'replicacao', 'replico', 'representacao', 'representar', 'representir', 'requer', 'residir', 'resolucao', 'respectivamente', 'respectivo', 'respeito', 'responsabilidade', 'responsavel', 'resposta', 'restricoes', 'restrito', 'resultado', 'resultar', 'resume', 'resumir', 'retirar', 'retornar', 'return', 'rexchangir', 'rg', 'rigoroso', 'rja', 'robusto', 'ropt', 'rota', 'rotimo', 'rotina', 'rotulo', 'rs', 'rubronegra', 'rubronegrar', 'rubronegro', 'rx', 's', 's1', 's2', 's3', 'saber', 'saida', 'sair', 'sala', 'salario', 'sao', 'saude', 'sc', 'scanfd', 'schedular', 'schedule', 'se', 'search', 'secundar', 'security10', 'segmentacao', 'seguida', 'seguinte', 'seguir', 'segundo', 'seguranca', 'seleciona', 'selecionar', 'selecione', 'select', 'semaforo', 'sempre', 'senao', 'sequencer', 'sequencia', 'ser', 'sera', 'serao', 'serial', 'serializar', 'serializavel', 'server', 'servir', 'set', 'sexo', 'sgbd', 'sigkill', 'signed', 'signedr', 'significado', 'similar', 'simples', 'simultaneamente', 'sinal', 'sinoni', 'sinonimo', 'sistema', 'sk', 'sn', 'so', 'sob', 'sobre', 'sobrecarga', 'sobreposicao', 'software', 'solucao', 'solucoes', 'soma', 'somapessoa', 'somar', 'somente', 'somo', 'sort', 'sparql', 'sql', 'static', 'stdioh', 'stdlibh', 'str', 'strcpy', 'string', 'struct', 'subarvor', 'subclar', 'subclass', 'subclasse', 'subconjunto', 'sublinhar', 'sublista', 'subsidio', 'substituido', 'substituir', 'sucesso', 'sum', 'superclar', 'superclasse', 'suponha', 'supor', 'system', 'systemio', 't1', 't2', 'tabela', 'table', 'tag', 'tags', 'tal', 'tamanho', 'tambem', 'tanto', 'tarder', 'tarefa', 'tecnica', 'tecnico', 'tela', 'tema', 'tempo', 'tentar', 'teoria', 'teoriar', 'teorio', 'ter', 'tera', 'terceiro', 'terminar', 'termo', 'termos', 'ternario', 'teste', 'texto', 'thead', 'ti', 'tipicamente', 'tipo', 'tj', 'tk', 'todo', 'todoparte', 'toolkit', 'topo8', 'tornandoa', 'tornandoor', 'tornar', 'total', 'tr', 'transacao', 'transacoe', 'transacoes', 'transfira', 'transparencia', 'transpor', 'tratar', 'tratase', 'trataser', 'trecho', 'tree', 'triangulo', 'troca', 'trocandoos', 'trocaos', 'trocar', 'tsql', 'tupla', 'u', 'ufresidencio', 'ultimo', 'ultimo4', 'uml', 'umparamuito', 'unico', 'unidade', 'unique', 'unitario', 'unsigned', 'usar', 'using', 'uso', 'usualmente', 'usuario', 'utei', 'util', 'utilizacao', 'utilizado', 'utilizar', 'v', 'valor', 'valorado', 'valorar', 'vantagem', 'var', 'var2', 'var9', 'varcharmax', 'varia', 'variacao', 'variante', 'variar', 'variavel', 'vario', 'varvar', 'vazer', 'veiculo', 'ver', 'verdadeira', 'verdadeiro', 'verifique', 'vermelho', 'vermelhopreto', 'versao', 'versus', 'vertical', 'vertice', 'vetor', 'vetor10', 'vetori', 'vez', 'viajante', 'vincular', 'virtual', 'visao', 'visaor', 'visibilidade', 'visivel', 'voce', 'void', 'vulnerabilidade', 'w', 'w1x', 'w1y', 'w2x', 'w2y', 'where', 'whilea', 'widgets', 'wka', 'write', 'x', 'x1', 'x1a1', 'x2', 'x2a2', 'x3', 'xml', 'xtree', 'xxx', 'y', 'zero']\n"
          ]
        }
      ]
    },
    {
      "cell_type": "markdown",
      "source": [
        "### Cálculo do TF-IDF\n",
        "\n"
      ],
      "metadata": {
        "id": "Tb913rQdRl2V"
      }
    },
    {
      "cell_type": "markdown",
      "source": [
        "###### Preparação para o cálculo de TF-IDF"
      ],
      "metadata": {
        "id": "yydHcHPrVisB"
      }
    },
    {
      "cell_type": "code",
      "source": [
        "class Node:\n",
        "    def __init__(self, name: str, frequency: int):\n",
        "        self.frequency = frequency\n",
        "        self.name      = name\n",
        "        self.next      = None\n",
        "\n",
        "    def __str__(self):\n",
        "        return f'[Documento: {self.name}, Frequência: {self.frequency}]'\n",
        "\n",
        "class LinkedList:\n",
        "    def __init__(self):\n",
        "        self.head = None\n",
        "\n",
        "    def print_list(self) -> None:\n",
        "        current_node = self.head\n",
        "\n",
        "        while current_node:\n",
        "            print(current_node, end = \" -> \")\n",
        "            current_node = current_node.next\n",
        "\n",
        "        print(\"[ ]\")\n",
        "\n",
        "    def get_document_list(self) -> list[Node]:\n",
        "        array = []\n",
        "        node = self.head\n",
        "\n",
        "        while node:\n",
        "            array.append(node)\n",
        "            node = node.next\n",
        "\n",
        "        return array\n",
        "\n",
        "    def append_document(self, name : str, frequency : int) -> None:\n",
        "        new_node = Node(name, frequency)\n",
        "\n",
        "        if self.head is None:\n",
        "            self.head = new_node\n",
        "            return\n",
        "\n",
        "        last_node = self.head\n",
        "\n",
        "        while last_node.next:\n",
        "            last_node = last_node.next\n",
        "\n",
        "        last_node.next = new_node"
      ],
      "metadata": {
        "id": "RoBA4pD2S-oG"
      },
      "execution_count": null,
      "outputs": []
    },
    {
      "cell_type": "markdown",
      "source": [
        "###### Geração da matriz de termo-frequência: $\\text{TF}_{ij} = 1 + \\log_2 F_{ij}$"
      ],
      "metadata": {
        "id": "eF-nnwM0bbpV"
      }
    },
    {
      "cell_type": "code",
      "source": [
        "def calculate_term_frequency(term_frequency: dict) -> dict:\n",
        "    for name, token in document_token.items():\n",
        "        for term in set(token):\n",
        "            frequency = 1 + math.log2(token.count(term))\n",
        "\n",
        "            term_frequency[term].append_document(name, frequency)\n",
        "\n",
        "    return term_frequency"
      ],
      "metadata": {
        "id": "tL0LMBizbnR5"
      },
      "execution_count": null,
      "outputs": []
    },
    {
      "cell_type": "code",
      "source": [
        "print('Exemplo de termo-frequência [arvore]:')\n",
        "\n",
        "term_frequency = calculate_term_frequency({term: LinkedList() for term in vocabulary})\n",
        "\n",
        "for document in term_frequency['arvore'].get_document_list():\n",
        "    print(document)"
      ],
      "metadata": {
        "id": "PXrmt3hxvRsi",
        "colab": {
          "base_uri": "https://localhost:8080/"
        },
        "outputId": "23572b65-5a31-4446-de38-2d11ba404724"
      },
      "execution_count": null,
      "outputs": [
        {
          "output_type": "stream",
          "name": "stdout",
          "text": [
            "Exemplo de termo-frequência [arvore]:\n",
            "[Documento: banco de dados [MR - 2](10).txt, Frequência: 1.0]\n",
            "[Documento: estrutura de dados [AV - 2](1 - GABARITO).txt, Frequência: 3.321928094887362]\n",
            "[Documento: estrutura de dados [AV - 2](2 - GABARITO).txt, Frequência: 3.0]\n",
            "[Documento: estrutura de dados [AV - 2](4 - GABARITO).txt, Frequência: 3.0]\n",
            "[Documento: estrutura de dados [AV - 2](5 - GABARITO).txt, Frequência: 1.0]\n",
            "[Documento: estrutura de dados [AV - 3](1 - GABARITO).txt, Frequência: 2.584962500721156]\n",
            "[Documento: estrutura de dados [AV - 3](2 - GABARITO).txt, Frequência: 2.584962500721156]\n",
            "[Documento: estrutura de dados [CA - 2](1 - GABARITO).txt, Frequência: 2.584962500721156]\n",
            "[Documento: estrutura de dados [CA - 2](2 - GABARITO).txt, Frequência: 3.0]\n",
            "[Documento: estrutura de dados [MO - 1](1 - GABARITO).txt, Frequência: 3.321928094887362]\n",
            "[Documento: grafos [CB - 3](1).txt, Frequência: 3.0]\n"
          ]
        }
      ]
    },
    {
      "cell_type": "markdown",
      "source": [
        "###### Geração da matriz de Frequência Inversa de Documento. $\\text{IDF}_{i} =  \\log_2 \\frac {N} {n{i}}$"
      ],
      "metadata": {
        "id": "V9shxeJWbrsk"
      }
    },
    {
      "cell_type": "code",
      "source": [
        "def calculate_IDF(term_frequency: dict, colletion_size: int, inverse_data_frequency: dict) -> dict:\n",
        "    for term, posting in term_frequency.items():\n",
        "        posting_size = len(posting.get_document_list())\n",
        "\n",
        "        term_idf = math.log2(colletion_size / posting_size)\n",
        "\n",
        "        inverse_data_frequency[term] = term_idf\n",
        "\n",
        "    return inverse_data_frequency"
      ],
      "metadata": {
        "id": "D63c9t5x-b0s"
      },
      "execution_count": null,
      "outputs": []
    },
    {
      "cell_type": "code",
      "source": [
        "print('Exemplo de frequência inversa de documento:')\n",
        "\n",
        "inverse_data_frequency = calculate_IDF(term_frequency, len(document_token), {})\n",
        "\n",
        "print('árvore:', inverse_data_frequency['arvore'])"
      ],
      "metadata": {
        "id": "Guh9LIDoCP3M",
        "colab": {
          "base_uri": "https://localhost:8080/"
        },
        "outputId": "b43c667e-ccd0-44dc-cc04-db4eada97671"
      },
      "execution_count": null,
      "outputs": [
        {
          "output_type": "stream",
          "name": "stdout",
          "text": [
            "Exemplo de frequência inversa de documento:\n",
            "árvore: 3.2129937233341983\n"
          ]
        }
      ]
    },
    {
      "cell_type": "markdown",
      "source": [
        "##### Geração da matriz de TF-IDF"
      ],
      "metadata": {
        "id": "0L86UlhSDBLT"
      }
    },
    {
      "cell_type": "code",
      "source": [
        "def calculate_TF_IDF(term_frequency: dict, inverse_data_frequency: dict) -> dict:\n",
        "    tf_idf = {term: LinkedList() for term in vocabulary}\n",
        "\n",
        "    for term, posting in term_frequency.items():\n",
        "        for node in posting.get_document_list():\n",
        "            tf_idf[term].append_document(node.name, node.frequency * inverse_data_frequency[term])\n",
        "\n",
        "    return tf_idf"
      ],
      "metadata": {
        "id": "3inX_HA9DMKn"
      },
      "execution_count": null,
      "outputs": []
    },
    {
      "cell_type": "code",
      "source": [
        "print('Exemplo de TF-IDF:')\n",
        "\n",
        "tf_idf = calculate_TF_IDF(term_frequency, inverse_data_frequency)\n",
        "\n",
        "for document in tf_idf['arvore'].get_document_list():\n",
        "    print(document)"
      ],
      "metadata": {
        "id": "fQQHYNGgFUcL",
        "colab": {
          "base_uri": "https://localhost:8080/"
        },
        "outputId": "4045f17d-42f0-4f7f-b163-2d9bba64cfac"
      },
      "execution_count": null,
      "outputs": [
        {
          "output_type": "stream",
          "name": "stdout",
          "text": [
            "Exemplo de TF-IDF:\n",
            "[Documento: banco de dados [MR - 2](10).txt, Frequência: 3.2129937233341983]\n",
            "[Documento: estrutura de dados [AV - 2](1 - GABARITO).txt, Frequência: 10.673334118240625]\n",
            "[Documento: estrutura de dados [AV - 2](2 - GABARITO).txt, Frequência: 9.638981170002594]\n",
            "[Documento: estrutura de dados [AV - 2](4 - GABARITO).txt, Frequência: 9.638981170002594]\n",
            "[Documento: estrutura de dados [AV - 2](5 - GABARITO).txt, Frequência: 3.2129937233341983]\n",
            "[Documento: estrutura de dados [AV - 3](1 - GABARITO).txt, Frequência: 8.305468289871348]\n",
            "[Documento: estrutura de dados [AV - 3](2 - GABARITO).txt, Frequência: 8.305468289871348]\n",
            "[Documento: estrutura de dados [CA - 2](1 - GABARITO).txt, Frequência: 8.305468289871348]\n",
            "[Documento: estrutura de dados [CA - 2](2 - GABARITO).txt, Frequência: 9.638981170002594]\n",
            "[Documento: estrutura de dados [MO - 1](1 - GABARITO).txt, Frequência: 10.673334118240625]\n",
            "[Documento: grafos [CB - 3](1).txt, Frequência: 9.638981170002594]\n"
          ]
        }
      ]
    },
    {
      "cell_type": "markdown",
      "source": [
        "### Cálculo de similaridade"
      ],
      "metadata": {
        "id": "Oi-KiS3AZRQ8"
      }
    },
    {
      "cell_type": "markdown",
      "source": [
        "###### Normalização"
      ],
      "metadata": {
        "id": "soJUrkp28NcG"
      }
    },
    {
      "cell_type": "code",
      "source": [
        "def normalize_vectors(tf_idf: dict) -> dict:\n",
        "    document_norms = {}\n",
        "\n",
        "    for term, posting in tf_idf.items():\n",
        "        for node in posting.get_document_list():\n",
        "            if node.name not in document_norms:\n",
        "                document_norms[node.name] = 0\n",
        "\n",
        "            document_norms[node.name] += node.frequency ** 2\n",
        "\n",
        "    for name in document_norms:\n",
        "        document_norms[name] = math.sqrt(document_norms[name])\n",
        "\n",
        "    for term, posting in tf_idf.items():\n",
        "        for node in posting.get_document_list():\n",
        "            node.frequency /= document_norms[node.name]\n",
        "\n",
        "    return document_norms"
      ],
      "metadata": {
        "id": "Bamc5Pjkjeqb"
      },
      "execution_count": null,
      "outputs": []
    },
    {
      "cell_type": "code",
      "source": [
        "print('Norma de cada documento: ')\n",
        "\n",
        "document_norms = normalize_vectors(tf_idf)\n",
        "print(document_norms)"
      ],
      "metadata": {
        "id": "nFTZ9vo6qFgy",
        "colab": {
          "base_uri": "https://localhost:8080/"
        },
        "outputId": "305ace2c-1929-4beb-c3ef-b35e9512a79f"
      },
      "execution_count": null,
      "outputs": [
        {
          "output_type": "stream",
          "name": "stdout",
          "text": [
            "Norma de cada documento: \n",
            "{'estrutura de dados [AV - 3](1 - GABARITO).txt': 54.22186517693103, 'banco de dados [AR - 2](1).txt': 98.99936882666121, 'banco de dados [AR - 2](2).txt': 31.58146319632911, 'banco de dados [MR - 1](4).txt': 24.500785270453747, 'banco de dados [MR - 1](5).txt': 74.58442573913024, 'banco de dados [MR - 1](6).txt': 72.07879755416496, 'banco de dados [MR - 1](7).txt': 39.47274323658513, 'banco de dados [MR - 2](10).txt': 31.232472772097957, 'banco de dados [MR - 2](11).txt': 39.37426663142, 'banco de dados [MR - 2](8).txt': 70.17169620989254, 'banco de dados [MR - 2](9).txt': 71.6705861682143, 'banco de dados [MR - 3](1).txt': 41.52409920285135, 'banco de dados [MR - 3](2).txt': 53.56263130216006, 'banco de dados [MR - 3](3).txt': 41.01711260830103, 'grafos [AL - 3](3).txt': 72.15282036733427, 'programacao orientada a objetos [CB - 3](2).txt': 26.228037386218663, 'banco de dados [PL-SQL - 3](2).txt': 63.06271574438295, 'banco de dados [PT - 3](2).txt': 71.73529554748204, 'grafos [CB - 1](2).txt': 24.659969482844772, 'grafos [CB - 3](1).txt': 38.10379575784541, 'grafos [CB - 1](4).txt': 16.12044130342108, 'grafos [CB - 1](5).txt': 18.575800451652295, 'grafos [CB - 2](3).txt': 24.942921338130624, 'grafos [CB - 2](5).txt': 42.59381324074841, 'estrutura de dados [AV - 2](5 - GABARITO).txt': 47.887076909510206, 'grafos [CB - 2](2).txt': 51.265694053058, 'programacao orientada a objetos [CB - 2](6).txt': 51.40588485490515, 'programacao orientada a objetos [CL- 2](1).txt': 39.46491844189575, 'introducao a programacao [CB - 1](2).txt': 41.349777158881196, 'banco de dados [CB- 2](1).txt': 44.35342773340762, 'estrutura de dados [AV - 3](2 - GABARITO).txt': 55.50038778930544, 'estrutura de dados [MO - 1](1 - GABARITO).txt': 64.78133103228079, 'introducao a programacao [CB - 1](10).txt': 32.81985457714174, 'programacao orientada a objetos [CB - 3](4).txt': 49.78823787774991, 'grafos [CB - 3](3).txt': 16.866759515181638, 'estrutura de dados [FL - 3](3).txt': 43.707549079561424, 'programacao orientada a objetos [CB - 3](1).txt': 35.90285291954133, 'grafos [AL - 3](1).txt': 50.95042756454747, 'banco de dados [PL-SQL - 2](3).txt': 49.96310721277652, 'banco de dados [PL-SQL - 3](1).txt': 44.155944284151765, 'banco de dados [PT - 3](1).txt': 43.28065251427631, 'estrutra de dados [CB - 1](1).txt': 37.52410882635441, 'estrutura de dados [AV - 2](1 - GABARITO).txt': 36.74980084943486, 'estrutura de dados [AV - 2](2 - GABARITO).txt': 44.38108991531142, 'estrutura de dados [AV - 2](3 - GABARITO).txt': 46.37227780123417, 'estrutura de dados [AV - 2](4 - GABARITO).txt': 45.55457690398283, 'estrutura de dados [CA - 1](1).txt': 26.766403421884217, 'estrutura de dados [CA - 2](1 - GABARITO).txt': 34.91197320451676, 'estrutura de dados [CA - 2](2 - GABARITO).txt': 28.390467508423317, 'estrutura de dados [FL - 1](1).txt': 27.874628573572135, 'estrutura de dados [FL - 3](1).txt': 46.511884819298714, 'estrutura de dados [FL - 3](2).txt': 46.768506818275156, 'estrutura de dados [MB - 2](1).txt': 67.95779594851935, 'estrutura de dados [MO - 1](2).txt': 22.816741923414018, 'estrutura de dados [MO - 1](3).txt': 35.79629576795536, 'estrutura de dados [MO - 1](4).txt': 59.329524750000736, 'estrutura de dados [MO - 2](1).txt': 38.49047808488354, 'grafos [CA - 3](2).txt': 23.778125529618364, 'introducao a programacao [CB - 1](8).txt': 26.638581372095288, 'introducao a programacao [TD- 2](1).txt': 52.958402853109575, 'programacao orientada a objetos [CB - 2](2).txt': 42.25178453455396, 'programacao orientada a objetos [CB - 2](5).txt': 43.68348504190845, 'grafos [AL - 3](2).txt': 75.26269899655978, 'introducao a programacao [CB - 3](1).txt': 48.29464542015301, 'programacao orientada a objetos [CB - 1](1).txt': 29.50065725978291, 'programacao orientada a objetos [CB - 1](3).txt': 51.91068115367075, 'programacao orientada a objetos [CB - 3](5).txt': 25.421873075493007, 'programacao orientada a objetos [CB - 3](3).txt': 22.144936524148054, 'introducao a programacao [BB - 3](1).txt': 65.97629893761797, 'banco de dados [CB - 3](2).txt': 49.06540240104986, 'grafos [CB - 3](2).txt': 52.36356068373257, 'introducao a programacao [CB - 2](1).txt': 76.6694446054524, 'grafos [CB - 2](1).txt': 38.66996710047868, 'programacao orientada a objetos [PL - 1](2).txt': 34.60097754796536, 'introducao a programacao [CL - 3](2).txt': 56.91169853123381, 'programacao orientada a objetos [CB - 1](2).txt': 42.565967652100426, 'grafos [CB - 3](4).txt': 28.21262947213505, 'introducao a programacao [CB - 1](1).txt': 31.244498328025326, 'introducao a programacao [CB - 1](4).txt': 37.89375106310255, 'introducao a programacao [CB - 1](5).txt': 23.618006256898564, 'introducao a programacao [CB - 1](6).txt': 21.423280183695066, 'introducao a programacao [CB - 1](7).txt': 26.13549487610927, 'programacao orientada a objetos [CB - 2](7).txt': 59.5710072154417, 'programacao orientada a objetos [CB - 2](1).txt': 28.958317728595684, 'grafos [CB - 1](3).txt': 25.755784554976792, 'introducao a programacao [CB - 2](3).txt': 27.266740419072622, 'introducao a programacao [CB - 3](2).txt': 65.39839230178058, 'grafos [CB - 1](1).txt': 24.190070855240954, 'grafos [CB - 2](6).txt': 28.964856753680422, 'programacao orientada a objetos [CB - 2](4).txt': 30.05131349384031, 'introducao a programacao [CB - 1](9).txt': 23.181700362886517, 'introducao a programacao [CB - 2](2).txt': 31.172349307147385, 'introducao a programacao [PT- 2](2).txt': 30.42706854755517, 'programacao orientada a objetos [CB - 1](4).txt': 31.553604559744258, 'programacao orientada a objetos [CB - 2](3).txt': 21.097401824348303, 'programacao orientada a objetos [CB - 3](6).txt': 31.63568612172909, 'programacao orientada a objetos [CB - 2](8).txt': 46.645673854645025, 'programacao orientada a objetos [PL - 1](1).txt': 30.136414311942566, 'grafos [CA - 3](1).txt': 25.603315678513948, 'grafos [CB - 2](4).txt': 54.62325264257585, 'introducao a programacao [CB - 1](3).txt': 25.494438494665182, 'introducao a programacao [CL- 3](1).txt': 46.97681678007658}\n"
          ]
        }
      ]
    },
    {
      "cell_type": "markdown",
      "source": [
        "##### Similaridade entre dois documentos"
      ],
      "metadata": {
        "id": "gwPM9wSYXspv"
      }
    },
    {
      "cell_type": "code",
      "source": [
        "def calculate_cosine_similarity(doc1, doc2):\n",
        "    vector1 = {}\n",
        "    vector2 = {}\n",
        "\n",
        "    for term, posting in tf_idf.items():\n",
        "        for node in posting.get_document_list():\n",
        "            if node.name == doc1:\n",
        "                vector1[term] = node.frequency\n",
        "            if node.name == doc2:\n",
        "                vector2[term] = node.frequency\n",
        "\n",
        "    dot_product = 0\n",
        "\n",
        "    for term in vector1:\n",
        "        if term in vector2:\n",
        "            dot_product += vector1[term] * vector2[term]\n",
        "\n",
        "    return dot_product\n",
        "\n",
        "doc1 = 'estrutura de dados [AV - 2](3 - GABARITO).txt'\n",
        "\n",
        "similarity = {}\n",
        "\n",
        "for documento in document_token.keys():\n",
        "    similarity[documento] = calculate_cosine_similarity(doc1, documento)"
      ],
      "metadata": {
        "id": "MMQGOrdcXsQl"
      },
      "execution_count": null,
      "outputs": []
    },
    {
      "cell_type": "code",
      "source": [
        "sorted_similarity = dict(sorted(similarity.items(), key=lambda item: item[1], reverse=True))\n",
        "\n",
        "table = []\n",
        "for key, value in sorted_similarity.items():\n",
        "    table.append([key, f\"{value}\"])\n",
        "\n",
        "print(tabulate(table, headers=[\"Arquivo\", \"Similaridade\"], tablefmt=\"grid\"))"
      ],
      "metadata": {
        "id": "japjBprp6KQI",
        "colab": {
          "base_uri": "https://localhost:8080/"
        },
        "outputId": "f607aadc-fbd9-47e3-a10f-f5255f4c1421"
      },
      "execution_count": null,
      "outputs": [
        {
          "output_type": "stream",
          "name": "stdout",
          "text": [
            "+-------------------------------------------------+----------------+\n",
            "| Arquivo                                         |   Similaridade |\n",
            "+=================================================+================+\n",
            "| estrutura de dados [AV - 2](3 - GABARITO).txt   |    1           |\n",
            "+-------------------------------------------------+----------------+\n",
            "| estrutura de dados [AV - 2](5 - GABARITO).txt   |    0.822031    |\n",
            "+-------------------------------------------------+----------------+\n",
            "| estrutura de dados [AV - 2](2 - GABARITO).txt   |    0.537482    |\n",
            "+-------------------------------------------------+----------------+\n",
            "| estrutura de dados [AV - 2](4 - GABARITO).txt   |    0.505891    |\n",
            "+-------------------------------------------------+----------------+\n",
            "| estrutura de dados [AV - 3](2 - GABARITO).txt   |    0.289712    |\n",
            "+-------------------------------------------------+----------------+\n",
            "| programacao orientada a objetos [CB - 1](1).txt |    0.243173    |\n",
            "+-------------------------------------------------+----------------+\n",
            "| estrutura de dados [AV - 2](1 - GABARITO).txt   |    0.222093    |\n",
            "+-------------------------------------------------+----------------+\n",
            "| estrutura de dados [CA - 2](2 - GABARITO).txt   |    0.148202    |\n",
            "+-------------------------------------------------+----------------+\n",
            "| estrutura de dados [CA - 2](1 - GABARITO).txt   |    0.137923    |\n",
            "+-------------------------------------------------+----------------+\n",
            "| estrutura de dados [MO - 1](1 - GABARITO).txt   |    0.135218    |\n",
            "+-------------------------------------------------+----------------+\n",
            "| estrutura de dados [AV - 3](1 - GABARITO).txt   |    0.134759    |\n",
            "+-------------------------------------------------+----------------+\n",
            "| banco de dados [CB- 2](1).txt                   |    0.13222     |\n",
            "+-------------------------------------------------+----------------+\n",
            "| programacao orientada a objetos [CB - 2](7).txt |    0.117485    |\n",
            "+-------------------------------------------------+----------------+\n",
            "| banco de dados [PL-SQL - 3](1).txt              |    0.11496     |\n",
            "+-------------------------------------------------+----------------+\n",
            "| programacao orientada a objetos [CB - 3](4).txt |    0.112835    |\n",
            "+-------------------------------------------------+----------------+\n",
            "| banco de dados [MR - 3](3).txt                  |    0.0991119   |\n",
            "+-------------------------------------------------+----------------+\n",
            "| programacao orientada a objetos [CB - 2](5).txt |    0.0990594   |\n",
            "+-------------------------------------------------+----------------+\n",
            "| grafos [AL - 3](3).txt                          |    0.0972716   |\n",
            "+-------------------------------------------------+----------------+\n",
            "| grafos [AL - 3](1).txt                          |    0.0871374   |\n",
            "+-------------------------------------------------+----------------+\n",
            "| programacao orientada a objetos [CB - 1](4).txt |    0.0822386   |\n",
            "+-------------------------------------------------+----------------+\n",
            "| programacao orientada a objetos [CB - 3](6).txt |    0.0820252   |\n",
            "+-------------------------------------------------+----------------+\n",
            "| programacao orientada a objetos [CB - 2](6).txt |    0.072907    |\n",
            "+-------------------------------------------------+----------------+\n",
            "| banco de dados [MR - 3](1).txt                  |    0.0658636   |\n",
            "+-------------------------------------------------+----------------+\n",
            "| grafos [AL - 3](2).txt                          |    0.0642042   |\n",
            "+-------------------------------------------------+----------------+\n",
            "| estrutura de dados [CA - 1](1).txt              |    0.0605352   |\n",
            "+-------------------------------------------------+----------------+\n",
            "| grafos [CB - 3](4).txt                          |    0.0567024   |\n",
            "+-------------------------------------------------+----------------+\n",
            "| grafos [CB - 1](2).txt                          |    0.0469697   |\n",
            "+-------------------------------------------------+----------------+\n",
            "| programacao orientada a objetos [CB - 3](3).txt |    0.0430423   |\n",
            "+-------------------------------------------------+----------------+\n",
            "| programacao orientada a objetos [CB - 2](2).txt |    0.0399292   |\n",
            "+-------------------------------------------------+----------------+\n",
            "| banco de dados [PT - 3](2).txt                  |    0.0376016   |\n",
            "+-------------------------------------------------+----------------+\n",
            "| grafos [CB - 1](5).txt                          |    0.0364745   |\n",
            "+-------------------------------------------------+----------------+\n",
            "| estrutura de dados [MB - 2](1).txt              |    0.0329144   |\n",
            "+-------------------------------------------------+----------------+\n",
            "| introducao a programacao [CB - 1](1).txt        |    0.0305163   |\n",
            "+-------------------------------------------------+----------------+\n",
            "| estrutura de dados [MO - 1](4).txt              |    0.0303155   |\n",
            "+-------------------------------------------------+----------------+\n",
            "| estrutura de dados [MO - 1](2).txt              |    0.0299367   |\n",
            "+-------------------------------------------------+----------------+\n",
            "| estrutura de dados [FL - 3](3).txt              |    0.0295803   |\n",
            "+-------------------------------------------------+----------------+\n",
            "| grafos [CB - 2](1).txt                          |    0.0294781   |\n",
            "+-------------------------------------------------+----------------+\n",
            "| introducao a programacao [CB - 3](1).txt        |    0.0287412   |\n",
            "+-------------------------------------------------+----------------+\n",
            "| estrutura de dados [FL - 3](1).txt              |    0.0285134   |\n",
            "+-------------------------------------------------+----------------+\n",
            "| grafos [CB - 3](2).txt                          |    0.026097    |\n",
            "+-------------------------------------------------+----------------+\n",
            "| banco de dados [MR - 2](11).txt                 |    0.025725    |\n",
            "+-------------------------------------------------+----------------+\n",
            "| estrutura de dados [MO - 2](1).txt              |    0.0235299   |\n",
            "+-------------------------------------------------+----------------+\n",
            "| estrutra de dados [CB - 1](1).txt               |    0.0224893   |\n",
            "+-------------------------------------------------+----------------+\n",
            "| estrutura de dados [FL - 3](2).txt              |    0.0224048   |\n",
            "+-------------------------------------------------+----------------+\n",
            "| introducao a programacao [TD- 2](1).txt         |    0.0220413   |\n",
            "+-------------------------------------------------+----------------+\n",
            "| introducao a programacao [CB - 3](2).txt        |    0.0218121   |\n",
            "+-------------------------------------------------+----------------+\n",
            "| grafos [CB - 2](3).txt                          |    0.0206259   |\n",
            "+-------------------------------------------------+----------------+\n",
            "| banco de dados [MR - 2](9).txt                  |    0.0204581   |\n",
            "+-------------------------------------------------+----------------+\n",
            "| programacao orientada a objetos [CB - 2](8).txt |    0.0190624   |\n",
            "+-------------------------------------------------+----------------+\n",
            "| programacao orientada a objetos [CB - 2](1).txt |    0.0188502   |\n",
            "+-------------------------------------------------+----------------+\n",
            "| grafos [CB - 2](6).txt                          |    0.0185783   |\n",
            "+-------------------------------------------------+----------------+\n",
            "| estrutura de dados [MO - 1](3).txt              |    0.0185307   |\n",
            "+-------------------------------------------------+----------------+\n",
            "| grafos [CA - 3](2).txt                          |    0.0177769   |\n",
            "+-------------------------------------------------+----------------+\n",
            "| banco de dados [MR - 1](5).txt                  |    0.0167909   |\n",
            "+-------------------------------------------------+----------------+\n",
            "| programacao orientada a objetos [CL- 2](1).txt  |    0.0163982   |\n",
            "+-------------------------------------------------+----------------+\n",
            "| banco de dados [AR - 2](1).txt                  |    0.0156396   |\n",
            "+-------------------------------------------------+----------------+\n",
            "| estrutura de dados [FL - 1](1).txt              |    0.0153622   |\n",
            "+-------------------------------------------------+----------------+\n",
            "| programacao orientada a objetos [CB - 3](1).txt |    0.0148799   |\n",
            "+-------------------------------------------------+----------------+\n",
            "| banco de dados [MR - 2](10).txt                 |    0.0137749   |\n",
            "+-------------------------------------------------+----------------+\n",
            "| banco de dados [PL-SQL - 3](2).txt              |    0.0119976   |\n",
            "+-------------------------------------------------+----------------+\n",
            "| grafos [CB - 2](2).txt                          |    0.0106338   |\n",
            "+-------------------------------------------------+----------------+\n",
            "| grafos [CB - 2](5).txt                          |    0.0102177   |\n",
            "+-------------------------------------------------+----------------+\n",
            "| programacao orientada a objetos [PL - 1](2).txt |    0.00989748  |\n",
            "+-------------------------------------------------+----------------+\n",
            "| programacao orientada a objetos [CB - 3](2).txt |    0.00943087  |\n",
            "+-------------------------------------------------+----------------+\n",
            "| programacao orientada a objetos [CB - 3](5).txt |    0.00900455  |\n",
            "+-------------------------------------------------+----------------+\n",
            "| introducao a programacao [CB - 1](9).txt        |    0.00884693  |\n",
            "+-------------------------------------------------+----------------+\n",
            "| grafos [CB - 1](4).txt                          |    0.00820114  |\n",
            "+-------------------------------------------------+----------------+\n",
            "| banco de dados [PL-SQL - 2](3).txt              |    0.00789614  |\n",
            "+-------------------------------------------------+----------------+\n",
            "| banco de dados [MR - 1](4).txt                  |    0.0075325   |\n",
            "+-------------------------------------------------+----------------+\n",
            "| banco de dados [PT - 3](1).txt                  |    0.00710466  |\n",
            "+-------------------------------------------------+----------------+\n",
            "| programacao orientada a objetos [CB - 1](3).txt |    0.00639774  |\n",
            "+-------------------------------------------------+----------------+\n",
            "| grafos [CA - 3](1).txt                          |    0.00611653  |\n",
            "+-------------------------------------------------+----------------+\n",
            "| banco de dados [MR - 1](6).txt                  |    0.0057552   |\n",
            "+-------------------------------------------------+----------------+\n",
            "| programacao orientada a objetos [CB - 1](2).txt |    0.00573909  |\n",
            "+-------------------------------------------------+----------------+\n",
            "| introducao a programacao [CB - 1](4).txt        |    0.00496271  |\n",
            "+-------------------------------------------------+----------------+\n",
            "| introducao a programacao [CB - 1](10).txt       |    0.00467112  |\n",
            "+-------------------------------------------------+----------------+\n",
            "| introducao a programacao [BB - 3](1).txt        |    0.00444877  |\n",
            "+-------------------------------------------------+----------------+\n",
            "| grafos [CB - 3](1).txt                          |    0.00347173  |\n",
            "+-------------------------------------------------+----------------+\n",
            "| banco de dados [MR - 1](7).txt                  |    0.00340564  |\n",
            "+-------------------------------------------------+----------------+\n",
            "| banco de dados [MR - 2](8).txt                  |    0.00334069  |\n",
            "+-------------------------------------------------+----------------+\n",
            "| programacao orientada a objetos [PL - 1](1).txt |    0.00330142  |\n",
            "+-------------------------------------------------+----------------+\n",
            "| programacao orientada a objetos [CB - 2](4).txt |    0.00312957  |\n",
            "+-------------------------------------------------+----------------+\n",
            "| introducao a programacao [CB - 1](8).txt        |    0.00243642  |\n",
            "+-------------------------------------------------+----------------+\n",
            "| introducao a programacao [CB - 2](1).txt        |    0.00238747  |\n",
            "+-------------------------------------------------+----------------+\n",
            "| banco de dados [MR - 3](2).txt                  |    0.00211547  |\n",
            "+-------------------------------------------------+----------------+\n",
            "| introducao a programacao [CB - 1](2).txt        |    0.00194868  |\n",
            "+-------------------------------------------------+----------------+\n",
            "| introducao a programacao [CL - 3](2).txt        |    0.00184458  |\n",
            "+-------------------------------------------------+----------------+\n",
            "| banco de dados [AR - 2](2).txt                  |    0.00170899  |\n",
            "+-------------------------------------------------+----------------+\n",
            "| introducao a programacao [CL- 3](1).txt         |    0.00143346  |\n",
            "+-------------------------------------------------+----------------+\n",
            "| grafos [CB - 3](3).txt                          |    0.00032758  |\n",
            "+-------------------------------------------------+----------------+\n",
            "| introducao a programacao [CB - 1](6).txt        |    0.000262242 |\n",
            "+-------------------------------------------------+----------------+\n",
            "| programacao orientada a objetos [CB - 2](3).txt |    0.00026189  |\n",
            "+-------------------------------------------------+----------------+\n",
            "| introducao a programacao [CB - 1](5).txt        |    0.000238318 |\n",
            "+-------------------------------------------------+----------------+\n",
            "| grafos [CB - 1](1).txt                          |    0.000228408 |\n",
            "+-------------------------------------------------+----------------+\n",
            "| banco de dados [CB - 3](2).txt                  |    0.000223588 |\n",
            "+-------------------------------------------------+----------------+\n",
            "| introducao a programacao [CB - 1](3).txt        |    0.000218291 |\n",
            "+-------------------------------------------------+----------------+\n",
            "| grafos [CB - 1](3).txt                          |    0.000214523 |\n",
            "+-------------------------------------------------+----------------+\n",
            "| introducao a programacao [CB - 1](7).txt        |    0.000212937 |\n",
            "+-------------------------------------------------+----------------+\n",
            "| introducao a programacao [PT- 2](2).txt         |    0.000182903 |\n",
            "+-------------------------------------------------+----------------+\n",
            "| introducao a programacao [CB - 2](2).txt        |    0.00017853  |\n",
            "+-------------------------------------------------+----------------+\n",
            "| grafos [CB - 2](4).txt                          |    0.000103776 |\n",
            "+-------------------------------------------------+----------------+\n",
            "| introducao a programacao [CB - 2](3).txt        |    4.40102e-06 |\n",
            "+-------------------------------------------------+----------------+\n"
          ]
        }
      ]
    }
  ]
}